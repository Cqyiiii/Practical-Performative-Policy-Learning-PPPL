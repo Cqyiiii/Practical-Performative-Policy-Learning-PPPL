{
 "cells": [
  {
   "cell_type": "code",
   "execution_count": 1,
   "id": "e18fe84a-c36b-4710-accd-07d67ca433db",
   "metadata": {
    "tags": []
   },
   "outputs": [
    {
     "name": "stderr",
     "output_type": "stream",
     "text": [
      "/root/miniconda3/envs/myconda/lib/python3.10/site-packages/tqdm/auto.py:21: TqdmWarning: IProgress not found. Please update jupyter and ipywidgets. See https://ipywidgets.readthedocs.io/en/stable/user_install.html\n",
      "  from .autonotebook import tqdm as notebook_tqdm\n"
     ]
    }
   ],
   "source": [
    "import numpy as np\n",
    "import pandas as pd\n",
    "import json\n",
    "import torch\n",
    "import matplotlib.pyplot as plt\n",
    "import seaborn as sns;sns.set()\n",
    "import warnings\n",
    "from function import *\n",
    "from causalml.inference.meta import BaseDRRegressor, BaseTRegressor"
   ]
  },
  {
   "cell_type": "code",
   "execution_count": 2,
   "id": "5f599876-f07f-467a-a09d-c1f1b3642ab7",
   "metadata": {
    "tags": []
   },
   "outputs": [],
   "source": [
    "\n",
    "warnings.filterwarnings(\"ignore\")\n",
    "\n",
    "torch.set_default_tensor_type(torch.cuda.FloatTensor)\n",
    "# torch.manual_seed(1)\n",
    "\n",
    "df = pd.read_csv('features_with_pred_prob.csv')\n",
    "df_loan = df['AMT_CREDIT'].copy()\n",
    "df_prob = df['PROB_PRED'].copy()\n",
    "\n",
    "df['AMT_INCOME_TOTAL'] = (df['AMT_INCOME_TOTAL'] - df['AMT_INCOME_TOTAL'].mean()) / df['AMT_INCOME_TOTAL'].std()\n",
    "df['AMT_CREDIT'] = (df['AMT_CREDIT'] - df['AMT_CREDIT'].mean()) / df['AMT_CREDIT'].std()\n",
    "df['REGION_POPULATION_RELATIVE'] = (df['REGION_POPULATION_RELATIVE'] - df['REGION_POPULATION_RELATIVE'].mean()) / df['REGION_POPULATION_RELATIVE'].std()\n",
    "df['DAYS_BIRTH'] = (df['DAYS_BIRTH'] - df['DAYS_BIRTH'].mean()) / df['DAYS_BIRTH'].std()\n",
    "df['DAYS_EMPLOYED'] = (df['DAYS_EMPLOYED'] - df['DAYS_EMPLOYED'].mean()) / df['DAYS_EMPLOYED'].std()\n",
    "df['DAYS_REGISTRATION'] = (df['DAYS_REGISTRATION'] - df['DAYS_REGISTRATION'].mean()) / df['DAYS_REGISTRATION'].std()\n",
    "df['DAYS_ID_PUBLISH'] = (df['DAYS_ID_PUBLISH'] - df['DAYS_ID_PUBLISH'].mean()) / df['DAYS_ID_PUBLISH'].std()\n",
    "df['DAYS_LAST_PHONE_CHANGE'] = (df['DAYS_LAST_PHONE_CHANGE'] - df['DAYS_LAST_PHONE_CHANGE'].mean()) / df['DAYS_LAST_PHONE_CHANGE'].std()\n",
    "df['HOUR_APPR_PROCESS_START'] = (df['HOUR_APPR_PROCESS_START'] - df['HOUR_APPR_PROCESS_START'].mean()) / df['HOUR_APPR_PROCESS_START'].std()\n",
    "df['ORGANIZATION_TYPE'] = (df['ORGANIZATION_TYPE'] - df['ORGANIZATION_TYPE'].mean()) / df['ORGANIZATION_TYPE'].std()\n",
    "\n",
    "u = torch.tensor(df.iloc[:, -1].values)\n",
    "v = torch.tensor(df.iloc[:, :-3].values, dtype=torch.float32)\n",
    "p = torch.tensor(df_prob, dtype=torch.float32).view(-1, 1)\n",
    "loan = torch.tensor(df_loan, dtype=torch.float32).view(-1, 1)\n"
   ]
  },
  {
   "cell_type": "code",
   "execution_count": 6,
   "id": "ebaec406-c44b-47c7-9765-6057b492b482",
   "metadata": {
    "tags": []
   },
   "outputs": [
    {
     "data": {
      "text/plain": [
       "tensor(0)"
      ]
     },
     "execution_count": 6,
     "metadata": {},
     "output_type": "execute_result"
    }
   ],
   "source": [
    "torch.argmax(torch.tensor([0, 0, 0, 0]))"
   ]
  },
  {
   "cell_type": "code",
   "execution_count": 7,
   "id": "3e5dd29d-fd6e-4d0e-b326-e351a24be5f6",
   "metadata": {
    "tags": []
   },
   "outputs": [],
   "source": [
    "def manipulation_cutoff_oracle(u, p, loan, c=0.1):\n",
    "    n = len(u)\n",
    "    u_target = torch.ones((10, n))\n",
    "    for i in range(10):\n",
    "        u_target[i] *= i\n",
    "    cate_target = cate_generate(u_target, p.reshape(-1), loan.reshape(-1))\n",
    "    pi_target = (cate_target > 0).int()        \n",
    "    mani_cost = c * torch.abs(u_target - u)\n",
    "    u_shift = (pi_target - mani_cost).argmax(dim=0)\n",
    "    return u_shift    \n",
    "    \n",
    "    \n",
    "\n",
    "def cutoff_oracle(data_eval, card_u, seed, c=0.1):\n",
    "    torch.manual_seed(seed)\n",
    "    np.random.seed(seed)\n",
    "    (u_eval, v_eval, p_eval, loan_eval) = data_eval\n",
    "\n",
    "    # u_category = u_eval\n",
    "\n",
    "    # evaluation of allocation policy\n",
    "    u_eval_category_shift = manipulation_cutoff_oracle(u_eval, p_eval, loan_eval, c=c)\n",
    "\n",
    "    tau_eval = cate_generate(u_eval_category_shift, p_eval.reshape(-1), loan_eval.reshape(-1))\n",
    "    pi_eval = torch.where(tau_eval > 0, torch.tensor(1), torch.tensor(0))    \n",
    "    value = torch.mean(pi_eval * tau_eval)\n",
    "\n",
    "    return value.item()"
   ]
  },
  {
   "cell_type": "code",
   "execution_count": 8,
   "id": "51b9c483-9d07-45cb-9c15-04231e24afb1",
   "metadata": {
    "tags": []
   },
   "outputs": [
    {
     "ename": "NameError",
     "evalue": "name 'data_eval' is not defined",
     "output_type": "error",
     "traceback": [
      "\u001b[0;31m---------------------------------------------------------------------------\u001b[0m",
      "\u001b[0;31mNameError\u001b[0m                                 Traceback (most recent call last)",
      "Cell \u001b[0;32mIn[8], line 1\u001b[0m\n\u001b[0;32m----> 1\u001b[0m cutoff_oracle(\u001b[43mdata_eval\u001b[49m, \u001b[38;5;241m10\u001b[39m, seed\u001b[38;5;241m=\u001b[39mseed, c\u001b[38;5;241m=\u001b[39mc)\n",
      "\u001b[0;31mNameError\u001b[0m: name 'data_eval' is not defined"
     ]
    }
   ],
   "source": [
    "cutoff_oracle(data_eval, 10, seed=seed, c=c)"
   ]
  },
  {
   "cell_type": "code",
   "execution_count": 12,
   "id": "7819679c-add6-4f43-910e-76d157ab6f1c",
   "metadata": {
    "tags": []
   },
   "outputs": [
    {
     "name": "stdout",
     "output_type": "stream",
     "text": [
      "1.7382349967956543\n",
      "1.7068346738815308\n",
      "1.6701109409332275\n"
     ]
    }
   ],
   "source": [
    "data_eval = (u, v, p, loan)\n",
    "for c in [0.1, 0.2, 0.3]:\n",
    "    print(cutoff_oracle(data_eval, 10, seed=seed, c=c))"
   ]
  },
  {
   "cell_type": "code",
   "execution_count": 18,
   "id": "2032e0f8-8219-4033-99be-ae4c75184893",
   "metadata": {
    "tags": []
   },
   "outputs": [
    {
     "name": "stdout",
     "output_type": "stream",
     "text": [
      "prop manipulated: 0.3441, prop improve: 0.3441, mean move: 0.7853\n",
      "prop manipulated: 0.3117, prop improve: 0.3117, mean move: 0.6063\n"
     ]
    }
   ],
   "source": [
    "u_initial = u \n",
    "\n",
    "for cost_coef in [0.1, 0.2]:\n",
    "\n",
    "    # cate_model = torch.load(\"models/cate_model_c{}.pkl\".format(cost_coef))\n",
    "    # def manipulation_cutoff(u, v, card_u, cate_learner, c=0.1):\n",
    "    u_shift = manipulation_cutoff_oracle(u, p, loan, c=cost_coef)\n",
    "    \n",
    "    # torch.save(u_shift, \"result/u_shift_cate_c{}.pkl\".format(cost_coef))\n",
    "\n",
    "    # u_prime = u_shift.argmax(dim=1).reshape(-1)\n",
    "    u_prime = u_shift\n",
    "    print(\"prop manipulated: {:.4f}, prop improve: {:.4f}, mean move: {:.4f}\".format(\n",
    "        (u_prime!=u_initial).float().mean(), \n",
    "        (u_prime>u_initial).float().mean(),\n",
    "        (u_prime-u_initial).float().mean()                \n",
    "    ) )"
   ]
  },
  {
   "cell_type": "code",
   "execution_count": null,
   "id": "7951b8c3-325e-4e3a-8a21-c4af223c4d56",
   "metadata": {},
   "outputs": [],
   "source": []
  }
 ],
 "metadata": {
  "kernelspec": {
   "display_name": "myconda",
   "language": "python",
   "name": "myconda"
  },
  "language_info": {
   "codemirror_mode": {
    "name": "ipython",
    "version": 3
   },
   "file_extension": ".py",
   "mimetype": "text/x-python",
   "name": "python",
   "nbconvert_exporter": "python",
   "pygments_lexer": "ipython3",
   "version": "3.10.12"
  }
 },
 "nbformat": 4,
 "nbformat_minor": 5
}
