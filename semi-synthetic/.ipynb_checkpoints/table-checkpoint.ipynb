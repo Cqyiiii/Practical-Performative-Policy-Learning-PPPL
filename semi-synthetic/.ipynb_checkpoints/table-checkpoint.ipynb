{
 "cells": [
  {
   "cell_type": "code",
   "execution_count": 1,
   "id": "6aa50f76-e778-471c-a1de-c5fc4e9e08e6",
   "metadata": {
    "tags": []
   },
   "outputs": [
    {
     "name": "stderr",
     "output_type": "stream",
     "text": [
      "/root/miniconda3/envs/myconda/lib/python3.10/site-packages/tqdm/auto.py:21: TqdmWarning: IProgress not found. Please update jupyter and ipywidgets. See https://ipywidgets.readthedocs.io/en/stable/user_install.html\n",
      "  from .autonotebook import tqdm as notebook_tqdm\n"
     ]
    },
    {
     "data": {
      "text/plain": [
       "'1.3.0'"
      ]
     },
     "execution_count": 1,
     "metadata": {},
     "output_type": "execute_result"
    }
   ],
   "source": [
    "import pandas as pd\n",
    "import numpy as np \n",
    "import torch\n",
    "\n",
    "from function import manipulation, manipulation_cutoff\n",
    "from causalml.inference.meta import BaseDRRegressor\n",
    "\n",
    "\n",
    "import matplotlib.pyplot as plt\n",
    "import seaborn as sns;sns.set()\n",
    "from matplotlib.ticker import FuncFormatter\n",
    "\n",
    "from function import *\n",
    "\n",
    "import sklearn\n",
    "import xgboost\n",
    "\n",
    "sklearn.__version__"
   ]
  },
  {
   "cell_type": "code",
   "execution_count": 2,
   "id": "638918f1-bab2-4795-9c8e-9ce37bd3d5d9",
   "metadata": {
    "tags": []
   },
   "outputs": [],
   "source": [
    "\n",
    "df = pd.read_csv('features_with_pred_prob.csv')\n",
    "df_loan = df['AMT_CREDIT'].copy()\n",
    "df_prob = df['PROB_PRED'].copy()\n",
    "\n",
    "df['AMT_INCOME_TOTAL'] = (df['AMT_INCOME_TOTAL'] - df['AMT_INCOME_TOTAL'].mean()) / df['AMT_INCOME_TOTAL'].std()\n",
    "df['AMT_CREDIT'] = (df['AMT_CREDIT'] - df['AMT_CREDIT'].mean()) / df['AMT_CREDIT'].std()\n",
    "df['REGION_POPULATION_RELATIVE'] = (df['REGION_POPULATION_RELATIVE'] - df['REGION_POPULATION_RELATIVE'].mean()) / df['REGION_POPULATION_RELATIVE'].std()\n",
    "df['DAYS_BIRTH'] = (df['DAYS_BIRTH'] - df['DAYS_BIRTH'].mean()) / df['DAYS_BIRTH'].std()\n",
    "df['DAYS_EMPLOYED'] = (df['DAYS_EMPLOYED'] - df['DAYS_EMPLOYED'].mean()) / df['DAYS_EMPLOYED'].std()\n",
    "df['DAYS_REGISTRATION'] = (df['DAYS_REGISTRATION'] - df['DAYS_REGISTRATION'].mean()) / df['DAYS_REGISTRATION'].std()\n",
    "df['DAYS_ID_PUBLISH'] = (df['DAYS_ID_PUBLISH'] - df['DAYS_ID_PUBLISH'].mean()) / df['DAYS_ID_PUBLISH'].std()\n",
    "df['DAYS_LAST_PHONE_CHANGE'] = (df['DAYS_LAST_PHONE_CHANGE'] - df['DAYS_LAST_PHONE_CHANGE'].mean()) / df['DAYS_LAST_PHONE_CHANGE'].std()\n",
    "df['HOUR_APPR_PROCESS_START'] = (df['HOUR_APPR_PROCESS_START'] - df['HOUR_APPR_PROCESS_START'].mean()) / df['HOUR_APPR_PROCESS_START'].std()\n",
    "df['ORGANIZATION_TYPE'] = (df['ORGANIZATION_TYPE'] - df['ORGANIZATION_TYPE'].mean()) / df['ORGANIZATION_TYPE'].std()\n",
    "\n",
    "u = torch.tensor(df.iloc[:, -1].values)\n",
    "v = torch.tensor(df.iloc[:, :-3].values, dtype=torch.float32)\n",
    "p = torch.tensor(df_prob, dtype=torch.float32).view(-1, 1)\n",
    "loan = torch.tensor(df_loan, dtype=torch.float32).view(-1, 1)"
   ]
  },
  {
   "cell_type": "code",
   "execution_count": 3,
   "id": "49c46e7b-9593-49a4-afe1-5949e754cdbf",
   "metadata": {
    "tags": []
   },
   "outputs": [],
   "source": [
    "card_u = 10\n",
    "u = torch.nn.functional.one_hot(u, num_classes=card_u)\n",
    "u_initial = u.argmax(dim=1)"
   ]
  },
  {
   "cell_type": "code",
   "execution_count": 57,
   "id": "44efe109-ad86-4c88-8069-b2b07458387e",
   "metadata": {
    "tags": []
   },
   "outputs": [
    {
     "name": "stdout",
     "output_type": "stream",
     "text": [
      "0.1\n",
      "prop manipulated: 0.5017, prop improve: 0.5017, mean move: 1.2106\n",
      "prop manipulated: 0.8883, prop improve: 0.8883, mean move: 2.1841\n",
      "\n",
      "\n",
      "0.15\n",
      "prop manipulated: 0.5164, prop improve: 0.5164, mean move: 1.1974\n",
      "prop manipulated: 0.8740, prop improve: 0.8740, mean move: 2.0812\n",
      "\n",
      "\n",
      "0.2\n",
      "prop manipulated: 0.6179, prop improve: 0.6179, mean move: 1.2515\n",
      "prop manipulated: 0.6697, prop improve: 0.6697, mean move: 1.2587\n",
      "\n",
      "\n"
     ]
    }
   ],
   "source": [
    "\n",
    "\n",
    "for cost_coef in [0.1, 0.15, 0.2]:\n",
    "    print(cost_coef)\n",
    "    stra_model = torch.load(\"models/stra_model_nov_pi_c{}.pkl\".format(cost_coef), map_location=torch.device('cpu'))\n",
    "    vani_model = torch.load(\"models/vani_model_pi_c{}.pkl\".format(cost_coef), map_location=torch.device('cpu'))\n",
    "    for model in [vani_model, stra_model]:\n",
    "        # _, u_category, _ = manipulation(u, v, num_sample, card_u, model)        \n",
    "        # _, u_category, u_shift = manipulation(u, v, card_u, model, c=cost_coef)    \n",
    "        _, u_category, u_shift = manipulation(u, v, card_u, model, c=cost_coef)        \n",
    "        \n",
    "        u_prime = u_category.reshape(-1)\n",
    "        \n",
    "        print(\"prop manipulated: {:.4f}, prop improve: {:.4f}, mean move: {:.4f}\".format(\n",
    "            (u_prime!=u_initial).float().mean(), \n",
    "            (u_prime>u_initial).float().mean(),\n",
    "            (u_prime-u_initial).float().mean()                \n",
    "        ) )\n",
    "        \n",
    "    print(\"\\n\")"
   ]
  },
  {
   "cell_type": "code",
   "execution_count": null,
   "id": "d128fb81-10c1-40f3-91df-219cc56983a9",
   "metadata": {},
   "outputs": [],
   "source": []
  },
  {
   "cell_type": "code",
   "execution_count": null,
   "id": "8c202204-0306-4f35-b711-51bf73a1a5d5",
   "metadata": {},
   "outputs": [],
   "source": []
  },
  {
   "cell_type": "code",
   "execution_count": null,
   "id": "26f95b4c-118f-46eb-88d2-788e6aaab618",
   "metadata": {},
   "outputs": [],
   "source": []
  },
  {
   "cell_type": "code",
   "execution_count": 59,
   "id": "7f4a8820-a99c-41c3-b13c-3d7c69fcaa3d",
   "metadata": {
    "tags": []
   },
   "outputs": [],
   "source": [
    "def manipulation_cutoff_oracle(u, p, loan, c=0.1):\n",
    "    n = len(u)\n",
    "    u_target = torch.ones((10, n))\n",
    "    for i in range(10):\n",
    "        u_target[i] *= i\n",
    "    cate_target = cate_generate(u_target, p.reshape(1, -1), loan.reshape(1,-1))\n",
    "    pi_target = (cate_target > 0).int()        \n",
    "    mani_cost = c * torch.abs(u_target - u.T)\n",
    "    u_shift = (pi_target - mani_cost).argmax(dim=0)\n",
    "    return u_shift    \n",
    "    \n",
    "\n",
    "def cutoff_oracle(data_eval, card_u, seed, c=0.1):\n",
    "    torch.manual_seed(seed)\n",
    "    np.random.seed(seed)\n",
    "    (u_eval, v_eval, p_eval, loan_eval) = data_eval\n",
    "    # evaluation of allocation policy\n",
    "    u_eval_category_shift = manipulation_cutoff_oracle(u_eval.argmax(dim=1), p_eval, loan_eval, c=c)\n",
    "    tau_eval = cate_generate(u_eval_category_shift, p_eval.reshape(-1), loan_eval.reshape(-1))\n",
    "    pi_eval = torch.where(tau_eval > 0, torch.tensor(1), torch.tensor(0))    \n",
    "    value = torch.mean(pi_eval * tau_eval)\n",
    "    return value.item()"
   ]
  },
  {
   "cell_type": "code",
   "execution_count": 41,
   "id": "fd6f9096-b979-4b2c-8886-60149061028a",
   "metadata": {
    "tags": []
   },
   "outputs": [
    {
     "data": {
      "text/plain": [
       "tensor([6, 5, 7,  ..., 8, 5, 8])"
      ]
     },
     "execution_count": 41,
     "metadata": {},
     "output_type": "execute_result"
    }
   ],
   "source": []
  },
  {
   "cell_type": "code",
   "execution_count": 48,
   "id": "155aa7e9-5b0b-4e08-adcb-e2cc5cdf5fa1",
   "metadata": {
    "tags": []
   },
   "outputs": [
    {
     "name": "stdout",
     "output_type": "stream",
     "text": [
      "prop manipulated: 0.3441, prop improve: 0.3441, mean move: 0.7853\n",
      "prop manipulated: 0.3407, prop improve: 0.3407, mean move: 0.7606\n",
      "prop manipulated: 0.3117, prop improve: 0.3117, mean move: 0.6063\n"
     ]
    }
   ],
   "source": [
    "# torch.set_default_tensor_type(torch.cuda.FloatTensor)\n",
    "# u = u.to(\"cuda\")\n",
    "# v = v.to(\"cuda\")\n",
    "\n",
    "for cost_coef in [0.1, 0.15, 0.2]:\n",
    "    # cate_model = torch.load(\"models/cate_model_c{}.pkl\".format(cost_coef))\n",
    "    # def manipulation_cutoff(u, v, card_u, cate_learner, c=0.1):\n",
    "    # u_shift = manipulation_cutoff(u, v, card_u, cate_model, c=cost_coef)\n",
    "    u_shift = manipulation_cutoff_oracle(u.argmax(dim=1), p, loan, c=cost_coef)\n",
    "    # print(u_shift)\n",
    "    # u_prime = u_shift.argmax(dim=1).reshape(-1)\n",
    "    u_prime = u_shift\n",
    "    # u_initial = u_initial.to(\"cuda\") \n",
    "    print(\"prop manipulated: {:.4f}, prop improve: {:.4f}, mean move: {:.4f}\".format(\n",
    "        (u_prime!=u_initial).float().mean(), \n",
    "        (u_prime>u_initial).float().mean(),\n",
    "        (u_prime-u_initial).float().mean()                \n",
    "    ) )\n"
   ]
  },
  {
   "cell_type": "code",
   "execution_count": 63,
   "id": "fb27cd4b-27c1-4548-9233-1440e3b50fd3",
   "metadata": {},
   "outputs": [
    {
     "name": "stdout",
     "output_type": "stream",
     "text": [
      "1.7382351160049438\n",
      "1.7350223064422607\n",
      "1.7068344354629517\n"
     ]
    }
   ],
   "source": [
    "for c in [0.1, 0.15, 0.2]:\n",
    "    print(cutoff_oracle((u,v,p,loan), 10, 10, c=c))"
   ]
  },
  {
   "cell_type": "markdown",
   "id": "3b6e15dc-aa99-4aa9-a095-d24a2480a61d",
   "metadata": {},
   "source": [
    "# Policy value\n"
   ]
  },
  {
   "cell_type": "code",
   "execution_count": null,
   "id": "a1470120-7ff9-4a9e-a1e4-8f1ac356c4ea",
   "metadata": {},
   "outputs": [],
   "source": []
  },
  {
   "cell_type": "code",
   "execution_count": 18,
   "id": "21ae1a4b-73f0-4960-8ec3-9a6544612bef",
   "metadata": {
    "tags": []
   },
   "outputs": [
    {
     "name": "stdout",
     "output_type": "stream",
     "text": [
      "       epoch  value_strategicGD  value_vanillaGD\n",
      "count   10.0          10.000000        10.000000\n",
      "mean   299.0           3.515691         2.352202\n",
      "std      0.0           0.024046         0.043423\n",
      "min    299.0           3.448398         2.276116\n",
      "25%    299.0           3.519240         2.332728\n",
      "50%    299.0           3.525430         2.348080\n",
      "75%    299.0           3.525489         2.373908\n",
      "max    299.0           3.525531         2.415612\n",
      "\n",
      "\n",
      "       epoch  value_strategicGD  value_vanillaGD\n",
      "count   10.0          10.000000        10.000000\n",
      "mean   299.0           3.479063         2.285612\n",
      "std      0.0           0.076027         0.031231\n",
      "min    299.0           3.323268         2.225021\n",
      "25%    299.0           3.514514         2.271808\n",
      "50%    299.0           3.515057         2.283882\n",
      "75%    299.0           3.515184         2.298754\n",
      "max    299.0           3.515319         2.347664\n",
      "\n",
      "\n",
      "       epoch  value_strategicGD  value_vanillaGD\n",
      "count   10.0          10.000000        10.000000\n",
      "mean   299.0           3.085449         2.259210\n",
      "std      0.0           0.092632         0.016841\n",
      "min    299.0           2.929459         2.225775\n",
      "25%    299.0           3.011913         2.255082\n",
      "50%    299.0           3.107526         2.259030\n",
      "75%    299.0           3.136191         2.266174\n",
      "max    299.0           3.224560         2.285656\n",
      "\n",
      "\n"
     ]
    }
   ],
   "source": [
    "for cost_coef in [0.1, 0.15, 0.2]:\n",
    "    df = pd.read_csv(\"policy_value_curves_c{}.csv\".format(cost_coef), index_col=0)\n",
    "\n",
    "    with open('result/cutoff_{}.json'.format(cost_coef), 'r') as file:\n",
    "        value_cutoff = json.load(file)  \n",
    "\n",
    "    print(df.query(\"epoch==299\").describe())\n",
    "    print(\"\\n\")\n",
    "    # print(sum(value_cutoff)/len(value_cutoff), \"\\n\")"
   ]
  },
  {
   "cell_type": "code",
   "execution_count": 28,
   "id": "550d19d8-872d-4e1e-953c-209455dd6a48",
   "metadata": {
    "tags": []
   },
   "outputs": [
    {
     "name": "stdout",
     "output_type": "stream",
     "text": [
      "0.1\n",
      "3.5230405569076537 0.004380551035935266\n",
      "2.6105971574783324 0.05444843442117868\n",
      "\n",
      "\n",
      "0.15\n",
      "3.50228955745697 0.030170446618927375\n",
      "2.509178805351257 0.03949558486378261\n",
      "\n",
      "\n",
      "0.2\n",
      "3.1388240337371824 0.11440547452991168\n",
      "2.537665367126465 0.08019133657827099\n",
      "\n",
      "\n"
     ]
    }
   ],
   "source": [
    "for cost_coef in [0.1, 0.15, 0.2]:\n",
    "    df = pd.read_csv(\"policy_value_curves_c{}.csv\".format(cost_coef), index_col=0)\n",
    "\n",
    "    stra_best_list = []\n",
    "    vani_best_list = []\n",
    "\n",
    "    for i in range(10):\n",
    "        stra_best_list.append(df.iloc[i*300:(i+1)*300, 1].max())\n",
    "        vani_best_list.append(df.iloc[i*300:(i+1)*300, 2].max())    \n",
    "\n",
    "    stra_best_list = np.array(stra_best_list)    \n",
    "    vani_best_list = np.array(vani_best_list)    \n",
    "    print(cost_coef)\n",
    "    print(stra_best_list.mean(), stra_best_list.std())\n",
    "    print(vani_best_list.mean(), vani_best_list.std())\n",
    "    print(\"\\n\")"
   ]
  },
  {
   "cell_type": "code",
   "execution_count": null,
   "id": "a5f1f60f-78c5-4645-8f6f-603b73d79caf",
   "metadata": {},
   "outputs": [],
   "source": []
  },
  {
   "cell_type": "code",
   "execution_count": null,
   "id": "98e709ba-f53f-4c06-be87-bd5e656c665f",
   "metadata": {},
   "outputs": [],
   "source": []
  },
  {
   "cell_type": "code",
   "execution_count": null,
   "id": "de384b1a-ced1-4829-8e06-2ccc3683b93d",
   "metadata": {},
   "outputs": [],
   "source": []
  },
  {
   "cell_type": "code",
   "execution_count": null,
   "id": "99b90003-8f13-4599-9733-ca5487412287",
   "metadata": {},
   "outputs": [],
   "source": []
  },
  {
   "cell_type": "markdown",
   "id": "ea9a43d9-1fcc-400d-b8b7-7add69e7a2ce",
   "metadata": {
    "tags": []
   },
   "source": [
    "# Distplot of U before/after manipulation"
   ]
  },
  {
   "cell_type": "code",
   "execution_count": 64,
   "id": "811dc121-b331-435f-9246-605f97b2b63c",
   "metadata": {
    "tags": []
   },
   "outputs": [],
   "source": [
    "card_u = 10\n",
    "\n",
    "for cost_coef in [0.1, 0.15, 0.2]:\n",
    "    stra_model = torch.load(\"models/stra_model_nov_pi_c{}.pkl\".format(cost_coef), map_location=torch.device('cpu'))\n",
    "    vani_model = torch.load(\"models/vani_model_pi_c{}.pkl\".format(cost_coef), map_location=torch.device('cpu'))\n",
    "\n",
    "    _, u_category_vani, u_shift_vani = manipulation(u, v, card_u, vani_model, c=cost_coef)        \n",
    "    _, u_category_stra, u_shift_stra = manipulation(u, v, card_u, stra_model, c=cost_coef)        \n",
    "    u_shift_cate = manipulation_cutoff_oracle(u.argmax(dim=1), p, loan, c=cost_coef)    \n",
    "\n",
    "    u_prime_vani = u_category_vani.reshape(-1)\n",
    "    u_prime_stra = u_category_stra.reshape(-1)\n",
    "    u_prime_cate = u_shift_cate\n",
    "\n",
    "    method_names = [\"Initial\", \"CATE>0\", \"Vanilla\", \"Strategic\"]\n",
    "    u_s = [u_initial, u_prime_cate, u_prime_vani, u_prime_stra]\n",
    "    name_col = []\n",
    "    u_col = []\n",
    "\n",
    "    for i in range(4):\n",
    "        name_col += [method_names[i]]*len(u_prime_vani)\n",
    "        u_col += u_s[i].tolist()\n",
    "\n",
    "    u_df = pd.DataFrame(np.array([name_col, u_col]).T, columns = [\"method\", \"u\"])\n",
    "    u_df[\"u\"] = u_df[\"u\"].astype(int)\n",
    "\n",
    "    u_df.to_csv(\"plot_u_df_c{}.csv\".format(cost_coef))    "
   ]
  },
  {
   "cell_type": "code",
   "execution_count": null,
   "id": "15039b26-276c-4340-bafa-09c945cebcc3",
   "metadata": {},
   "outputs": [],
   "source": []
  }
 ],
 "metadata": {
  "kernelspec": {
   "display_name": "myconda",
   "language": "python",
   "name": "myconda"
  },
  "language_info": {
   "codemirror_mode": {
    "name": "ipython",
    "version": 3
   },
   "file_extension": ".py",
   "mimetype": "text/x-python",
   "name": "python",
   "nbconvert_exporter": "python",
   "pygments_lexer": "ipython3",
   "version": "3.10.12"
  }
 },
 "nbformat": 4,
 "nbformat_minor": 5
}
