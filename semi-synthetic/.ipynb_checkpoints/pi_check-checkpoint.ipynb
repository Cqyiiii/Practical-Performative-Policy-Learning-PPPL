{
 "cells": [
  {
   "cell_type": "code",
   "execution_count": 2,
   "id": "d6693636-2c74-426f-8d6a-c1dc22bb1f10",
   "metadata": {
    "tags": []
   },
   "outputs": [
    {
     "name": "stderr",
     "output_type": "stream",
     "text": [
      "/root/miniconda3/envs/myconda/lib/python3.10/site-packages/tqdm/auto.py:21: TqdmWarning: IProgress not found. Please update jupyter and ipywidgets. See https://ipywidgets.readthedocs.io/en/stable/user_install.html\n",
      "  from .autonotebook import tqdm as notebook_tqdm\n"
     ]
    }
   ],
   "source": [
    "import numpy as np\n",
    "import pandas as pd\n",
    "import json\n",
    "import torch\n",
    "import matplotlib.pyplot as plt\n",
    "from matplotlib.ticker import FuncFormatter\n",
    "import seaborn as sns;sns.set()\n",
    "import warnings\n",
    "\n",
    "from cutoff import cutoff, cutoff_oracle\n",
    "from vanillaGD import vanillaGD\n",
    "from strategicGD import strategicGD\n",
    "from end2endGD import end2endGD\n",
    "\n",
    "# torch.use_deterministic_algorithms(True)\n",
    "\n",
    "warnings.filterwarnings(\"ignore\")\n",
    "\n",
    "torch.set_default_tensor_type(torch.cuda.FloatTensor)\n",
    "# torch.manual_seed(1)\n",
    "\n",
    "df = pd.read_csv('features_with_pred_prob.csv')\n",
    "df_loan = df['AMT_CREDIT'].copy()\n",
    "df_prob = df['PROB_PRED'].copy()\n",
    "\n",
    "df['AMT_INCOME_TOTAL'] = (df['AMT_INCOME_TOTAL'] - df['AMT_INCOME_TOTAL'].mean()) / df['AMT_INCOME_TOTAL'].std()\n",
    "df['AMT_CREDIT'] = (df['AMT_CREDIT'] - df['AMT_CREDIT'].mean()) / df['AMT_CREDIT'].std()\n",
    "df['REGION_POPULATION_RELATIVE'] = (df['REGION_POPULATION_RELATIVE'] - df['REGION_POPULATION_RELATIVE'].mean()) / df['REGION_POPULATION_RELATIVE'].std()\n",
    "df['DAYS_BIRTH'] = (df['DAYS_BIRTH'] - df['DAYS_BIRTH'].mean()) / df['DAYS_BIRTH'].std()\n",
    "df['DAYS_EMPLOYED'] = (df['DAYS_EMPLOYED'] - df['DAYS_EMPLOYED'].mean()) / df['DAYS_EMPLOYED'].std()\n",
    "df['DAYS_REGISTRATION'] = (df['DAYS_REGISTRATION'] - df['DAYS_REGISTRATION'].mean()) / df['DAYS_REGISTRATION'].std()\n",
    "df['DAYS_ID_PUBLISH'] = (df['DAYS_ID_PUBLISH'] - df['DAYS_ID_PUBLISH'].mean()) / df['DAYS_ID_PUBLISH'].std()\n",
    "df['DAYS_LAST_PHONE_CHANGE'] = (df['DAYS_LAST_PHONE_CHANGE'] - df['DAYS_LAST_PHONE_CHANGE'].mean()) / df['DAYS_LAST_PHONE_CHANGE'].std()\n",
    "df['HOUR_APPR_PROCESS_START'] = (df['HOUR_APPR_PROCESS_START'] - df['HOUR_APPR_PROCESS_START'].mean()) / df['HOUR_APPR_PROCESS_START'].std()\n",
    "df['ORGANIZATION_TYPE'] = (df['ORGANIZATION_TYPE'] - df['ORGANIZATION_TYPE'].mean()) / df['ORGANIZATION_TYPE'].std()\n",
    "\n",
    "u = torch.tensor(df.iloc[:, -1].values)\n",
    "v = torch.tensor(df.iloc[:, :-3].values, dtype=torch.float32)\n",
    "p = torch.tensor(df_prob, dtype=torch.float32).view(-1, 1)\n",
    "loan = torch.tensor(df_loan, dtype=torch.float32).view(-1, 1)\n",
    "\n",
    "\n",
    "\n",
    "\n",
    "\n",
    "dim_v = v.shape[1]\n",
    "card_u = len(torch.unique(u))\n",
    "T = 300\n",
    "n_train = int(u.shape[0] * 0.5)\n",
    "\n",
    "H = 100\n",
    "H_prime = 100\n",
    "len_seq = 40\n",
    "num_epoch = 300\n",
    "repeat_num = 1\n",
    "\n",
    "\n",
    "u = torch.nn.functional.one_hot(u, num_classes=card_u)\n",
    "\n",
    "\n",
    "u_eval = u\n",
    "v_eval = v\n",
    "p_eval = p\n",
    "loan_eval = loan\n",
    "\n",
    "torch.manual_seed(0)\n",
    "\n",
    "random_indices = torch.randperm(u.shape[0])\n",
    "u = u[random_indices]\n",
    "v = v[random_indices]\n",
    "p = p[random_indices]\n",
    "loan = loan[random_indices]\n",
    "\n",
    "u_train = u\n",
    "v_train = v\n",
    "p_train = p\n",
    "loan_train = loan\n",
    "\n",
    "u_list = torch.chunk(u_train, T, dim=0)\n",
    "v_list = torch.chunk(v_train, T, dim=0)\n",
    "p_list = torch.chunk(p_train, T, dim=0)\n",
    "loan_list = torch.chunk(loan_train, T, dim=0)\n",
    "\n",
    "data_list = (u_list, v_list, p_list, loan_list)\n",
    "data_train = (u_train, v_train, p_train, loan_train)\n",
    "data_eval = (u_eval, v_eval, p_eval, loan_eval)\n",
    "\n",
    "# TODO: random seed should only impact data sequence\n",
    "\n",
    "value_vanillaGD, best_vanillaGD, final_vanillaGD = [], [], []\n",
    "value_strategicGD, best_strategicGD, final_strategicGD  = [], [], []\n",
    "value_end2endGD, best_end2endGD, final_end2endGD = [], [], []\n",
    "value_cutoff = []\n",
    "\n",
    "init_seed = 10\n",
    "\n",
    "## for cost_coef = 0.1\n",
    "# lr_pi = 1.5/100\n",
    "\n",
    "## for cost_coef = 0.15\n",
    "lr_pi = 0.75/100\n",
    "\n",
    "\n",
    "lr_prob = 1e-2\n",
    "repeat_num = 10\n",
    "\n",
    "\n",
    "cost_coef = 0.15\n",
    "\n",
    "\n",
    "f = 300"
   ]
  },
  {
   "cell_type": "code",
   "execution_count": 3,
   "id": "db618454-a6f2-4732-8fe1-0c0e126935ed",
   "metadata": {
    "tags": []
   },
   "outputs": [],
   "source": [
    "model_pi = torch.load(\"models/stra_model_nov_pi_c0.1.pkl\")"
   ]
  },
  {
   "cell_type": "code",
   "execution_count": 4,
   "id": "837c3fc6-b869-4aa3-a42a-c26c2a2229f0",
   "metadata": {
    "tags": []
   },
   "outputs": [],
   "source": [
    "x = model_pi(torch.cat((u, v), dim=1)[:1000]).cpu().detach().numpy().reshape(-1)"
   ]
  },
  {
   "cell_type": "code",
   "execution_count": null,
   "id": "9aceba48-1df9-4be9-93c0-ca7c37fc8c1c",
   "metadata": {},
   "outputs": [],
   "source": []
  }
 ],
 "metadata": {
  "kernelspec": {
   "display_name": "myconda",
   "language": "python",
   "name": "myconda"
  },
  "language_info": {
   "codemirror_mode": {
    "name": "ipython",
    "version": 3
   },
   "file_extension": ".py",
   "mimetype": "text/x-python",
   "name": "python",
   "nbconvert_exporter": "python",
   "pygments_lexer": "ipython3",
   "version": "3.10.12"
  }
 },
 "nbformat": 4,
 "nbformat_minor": 5
}
